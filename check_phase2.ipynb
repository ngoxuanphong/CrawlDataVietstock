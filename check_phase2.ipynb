{
 "cells": [
  {
   "cell_type": "code",
   "execution_count": 1,
   "metadata": {},
   "outputs": [],
   "source": [
    "import pandas as pd"
   ]
  },
  {
   "cell_type": "code",
   "execution_count": 2,
   "metadata": {},
   "outputs": [],
   "source": [
    "p = 'D:/VIS/DataLake/Phase2/'\n",
    "ps_finan = f'{p}Financial/'\n",
    "ps_y = f'{ps_finan}Year/'\n",
    "ps_q = f'{ps_finan}Quarter/'\n",
    "\n",
    "ps_y_BS = f'{ps_y}BalanceSheet/'\n",
    "ps_y_CF = f'{ps_y}CashFlow/'\n",
    "ps_y_IS = f'{ps_y}IncomeStatement/'\n",
    "\n",
    "ps_q_BS = f'{ps_q}BalanceSheet/'\n",
    "ps_q_CF = f'{ps_q}CashFlow/'\n",
    "ps_q_IS = f'{ps_q}IncomeStatement/'\n",
    "\n",
    "p_Dividend = f'{p}Dividend/'\n",
    "p_Volume = f'{p}Volume/'\n",
    "\n",
    "p_DividendCash = f'{p}Dividend/DividendCash/'\n",
    "p_DividendShares = f'{p}Dividend/DividendShares/'\n",
    "p_TreasuryShares = f'{p}Volume/TreasuryShares/'\n",
    "p_VolumeAdditionalEvents = f'{p}Volume/VolumeAdditionalEvents/'\n",
    "p_VolumeNow = f'{p}Volume/VolumeNow.csv/'"
   ]
  },
  {
   "cell_type": "code",
   "execution_count": null,
   "metadata": {},
   "outputs": [],
   "source": [
    "symbol = 'AAA'\n",
    "df = pd.read_csv(f'{p1q_BalanceSheet}{symbol}.csv')\n",
    "if '/' in str(df.columns):\n",
    "    print('hi')\n",
    "df"
   ]
  },
  {
   "cell_type": "code",
   "execution_count": 3,
   "metadata": {},
   "outputs": [],
   "source": [
    "path = 'D:/VIS/DataLake/'\n",
    "# path = '/content/drive/MyDrive/Vietstock/DataLake/'\n",
    "p1 = f'{path}Phase1/'\n",
    "p_summary = f'{p1}Summary/'\n",
    "py = f'{p_summary}Year/'\n",
    "pq = f'{p_summary}Quarter/'\n",
    "\n",
    "p1y_BalanceSheet = f'{py}BalanceSheet/'\n",
    "p1y_IncomStatement =f'{py}IncomStatement/'\n",
    "p1y_CashFlows = f'{py}CashFlows/'\n",
    "\n",
    "p1q_BalanceSheet = f'{pq}BalanceSheet/'\n",
    "p1q_IncomStatement =f'{pq}IncomStatement/'\n",
    "p1q_CashFlows = f'{pq}CashFlows/'\n",
    "\n",
    "p1_AdditionalListing = f'{p1}AdditionalListing/'\n",
    "p1_TreasuryStockTransactions =f'{p1}TreasuryStockTransactions/'\n",
    "p1_Company_delisting = f'{p1}Company_delisting/'\n",
    "p1_divident = f'{p1}Dividend/'\n",
    "p1_CashDividend =f'{p1_divident}CashDividend/'\n",
    "p1_StockDividend = f'{p1_divident}StockDividend/'\n",
    "\n",
    "p1_infor = f'{p1}InforCompany/'\n",
    "# all_com = list(pd.read_csv('base/Phase1/List_Com_First (1_4) - Sheet1.csv')['Symbol'])\n",
    "# all_com = pd.read_excel('base/Phase1/List_Com_First (1_4).xlsx')['Symbol']\n",
    "# list_com_nothing = ['24H', 'ABG', 'AGB', 'AGE', 'ATP', 'AVG', 'BCH', 'BCO', 'BGT', 'BPT', 'BRM', 'BRV', 'BTA', 'CAF', 'CAR', 'CBV', 'CDV', 'CGC', 'CJV', 'CKM', 'CNS', 'CNX', 'CRV', 'DBV', 'DHQ', 'DKW', 'DLM', 'DO3', 'DTJ']"
   ]
  },
  {
   "cell_type": "code",
   "execution_count": null,
   "metadata": {},
   "outputs": [],
   "source": [
    "# list_ = []\n",
    "# list_folder=[p1q_BalanceSheet, p1q_IncomStatement, p1q_CashFlows,\n",
    "#              p1y_BalanceSheet, p1y_IncomStatement, p1y_CashFlows,]\n",
    "# list_false = {}\n",
    "# all_com = pd.read_excel('base/Phase1/List_Com_First (1_4).xlsx')['Symbol']\n",
    "\n",
    "for folder in [p1q_BalanceSheet, p1y_BalanceSheet]:\n",
    "    list_ = []\n",
    "    for i in all_com:\n",
    "        # if i not in list_com_nothing:\n",
    "            try:\n",
    "                data = pd.read_csv(folder+i+'.csv')\n",
    "                if len(data.index) != 129:\n",
    "                    list_.append(i)\n",
    "            except:\n",
    "                list_.append(i)\n",
    "                pass\n",
    "    print(len(list_))\n",
    "    list_false[str(folder)] = list_\n",
    "\n",
    "# for folder in [p1q_IncomStatement, p1y_IncomStatement]:\n",
    "#     list_ = []\n",
    "#     for i in all_com:\n",
    "#         try:\n",
    "#             data = pd.read_csv(folder+i+'.csv')\n",
    "#             if len(data.index) != 30:\n",
    "#                 list_.append(i)\n",
    "#         except:\n",
    "#             list_.append(i)\n",
    "#             pass\n",
    "#     print(len(list_))\n",
    "#     list_false[str(folder)] = list_\n",
    "#     # list_com_nothing = list_\n",
    "\n",
    "for folder in [p1q_CashFlows, p1y_CashFlows]:\n",
    "    list_ = []\n",
    "    for i in all_com:\n",
    "        if i not in list_com_nothing:\n",
    "            try:\n",
    "                data = pd.read_csv(folder+i+'.csv')\n",
    "                if len(data.index) not in [40,56,96,0]:\n",
    "                    print(i, len(data.index))\n",
    "                    list_.append(i)\n",
    "            except:\n",
    "                list_.append(i)\n",
    "                pass\n",
    "    print(len(list_), list_)\n",
    "    list_false[str(folder)] = list_"
   ]
  }
 ],
 "metadata": {
  "kernelspec": {
   "display_name": "Python 3.10.0 64-bit",
   "language": "python",
   "name": "python3"
  },
  "language_info": {
   "codemirror_mode": {
    "name": "ipython",
    "version": 3
   },
   "file_extension": ".py",
   "mimetype": "text/x-python",
   "name": "python",
   "nbconvert_exporter": "python",
   "pygments_lexer": "ipython3",
   "version": "3.10.0"
  },
  "orig_nbformat": 4,
  "vscode": {
   "interpreter": {
    "hash": "31671a60cee805c34c73116577b485118ff3a75c458d3004d49632c19702ac60"
   }
  }
 },
 "nbformat": 4,
 "nbformat_minor": 2
}

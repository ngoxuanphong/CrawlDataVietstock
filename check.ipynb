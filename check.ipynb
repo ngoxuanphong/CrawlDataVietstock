{
 "cells": [
  {
   "cell_type": "code",
   "execution_count": 1,
   "metadata": {},
   "outputs": [],
   "source": [
    "import pandas as pd\n",
    "import os\n",
    "import json"
   ]
  },
  {
   "cell_type": "code",
   "execution_count": 2,
   "metadata": {},
   "outputs": [],
   "source": [
    "path = 'D:/VIS/DataLake/'\n",
    "# path = '/content/drive/MyDrive/Vietstock/DataLake/'\n",
    "p1 = f'{path}Phase1/'\n",
    "p_summary = f'{p1}Summary/'\n",
    "py = f'{p_summary}Year/'\n",
    "pq = f'{p_summary}Quarter/'\n",
    "\n",
    "p1y_BalanceSheet = f'{py}BalanceSheet/'\n",
    "p1y_IncomStatement =f'{py}IncomStatement/'\n",
    "p1y_CashFlows = f'{py}CashFlows/'\n",
    "\n",
    "p1q_BalanceSheet = f'{pq}BalanceSheet/'\n",
    "p1q_IncomStatement =f'{pq}IncomStatement/'\n",
    "p1q_CashFlows = f'{pq}CashFlows/'\n",
    "\n",
    "p1_AdditionalListing = f'{p1}AdditionalListing/'\n",
    "p1_TreasuryStockTransactions =f'{p1}TreasuryStockTransactions/'\n",
    "p1_Company_delisting = f'{p1}Company_delisting/'\n",
    "p1_divident = f'{p1}Dividend/'\n",
    "p1_CashDividend =f'{p1_divident}CashDividend/'\n",
    "p1_StockDividend = f'{p1_divident}StockDividend/'\n",
    "\n",
    "p1_infor = f'{p1}InforCompany/'\n",
    "# all_com = list(pd.read_csv('base/Phase1/List_Com_First (1_4) - Sheet1.csv')['Symbol'])\n",
    "all_com = pd.read_excel('base/Phase1/List_Com_First (1_4).xlsx')['Symbol']\n",
    "list_com_nothing = ['24H', 'ABG', 'AGB', 'AGE', 'ATP', 'AVG', 'BCH', 'BCO', 'BGT', 'BPT', 'BRM', 'BRV', 'BTA', 'CAF', 'CAR', 'CBV', 'CDV', 'CGC', 'CJV', 'CKM', 'CNS', 'CNX', 'CRV', 'DBV', 'DHQ', 'DKW', 'DLM', 'DO3', 'DTJ']"
   ]
  },
  {
   "cell_type": "code",
   "execution_count": null,
   "metadata": {},
   "outputs": [],
   "source": [
    "list_wait_cf = ['ATC', 'BAV', 'BLU', 'BTJ', 'BVA', 'BVC', 'C42', 'CC7', 'CIE', 'CPT', 'CTE', 'DKH', 'DLX']"
   ]
  },
  {
   "cell_type": "code",
   "execution_count": 28,
   "metadata": {},
   "outputs": [
    {
     "name": "stdout",
     "output_type": "stream",
     "text": [
      "[]\n"
     ]
    }
   ],
   "source": [
    "list_false = []\n",
    "for i in os.listdir('base/Phase1/false'):\n",
    "    len_ = len(pd.read_csv(f'base/Phase1/false/{i}').index)\n",
    "    if len_ not in [40,56,96,0]:\n",
    "        # print(i.re, len_)\n",
    "        list_false.append(i.replace('.csv', ''))\n",
    "print(list_false)"
   ]
  },
  {
   "cell_type": "code",
   "execution_count": 10,
   "metadata": {},
   "outputs": [
    {
     "name": "stdout",
     "output_type": "stream",
     "text": [
      "29\n"
     ]
    },
    {
     "ename": "TypeError",
     "evalue": "list indices must be integers or slices, not str",
     "output_type": "error",
     "traceback": [
      "\u001b[1;31m---------------------------------------------------------------------------\u001b[0m",
      "\u001b[1;31mTypeError\u001b[0m                                 Traceback (most recent call last)",
      "\u001b[1;32md:\\VIS\\CrawlDataVietstock\\check.ipynb Cell 9'\u001b[0m in \u001b[0;36m<cell line: 7>\u001b[1;34m()\u001b[0m\n\u001b[0;32m     <a href='vscode-notebook-cell:/d%3A/VIS/CrawlDataVietstock/check.ipynb#ch0000007?line=16'>17</a>\u001b[0m                 \u001b[39mpass\u001b[39;00m\n\u001b[0;32m     <a href='vscode-notebook-cell:/d%3A/VIS/CrawlDataVietstock/check.ipynb#ch0000007?line=17'>18</a>\u001b[0m     \u001b[39mprint\u001b[39m(\u001b[39mlen\u001b[39m(list_))\n\u001b[1;32m---> <a href='vscode-notebook-cell:/d%3A/VIS/CrawlDataVietstock/check.ipynb#ch0000007?line=18'>19</a>\u001b[0m     list_false[\u001b[39mstr\u001b[39m(folder)] \u001b[39m=\u001b[39m list_\n\u001b[0;32m     <a href='vscode-notebook-cell:/d%3A/VIS/CrawlDataVietstock/check.ipynb#ch0000007?line=20'>21</a>\u001b[0m \u001b[39m# for folder in [p1q_IncomStatement, p1y_IncomStatement]:\u001b[39;00m\n\u001b[0;32m     <a href='vscode-notebook-cell:/d%3A/VIS/CrawlDataVietstock/check.ipynb#ch0000007?line=21'>22</a>\u001b[0m \u001b[39m#     list_ = []\u001b[39;00m\n\u001b[0;32m     <a href='vscode-notebook-cell:/d%3A/VIS/CrawlDataVietstock/check.ipynb#ch0000007?line=22'>23</a>\u001b[0m \u001b[39m#     for i in all_com:\u001b[39;00m\n\u001b[1;32m   (...)\u001b[0m\n\u001b[0;32m     <a href='vscode-notebook-cell:/d%3A/VIS/CrawlDataVietstock/check.ipynb#ch0000007?line=31'>32</a>\u001b[0m \u001b[39m#     list_false[str(folder)] = list_\u001b[39;00m\n\u001b[0;32m     <a href='vscode-notebook-cell:/d%3A/VIS/CrawlDataVietstock/check.ipynb#ch0000007?line=32'>33</a>\u001b[0m \u001b[39m#     # list_com_nothing = list_\u001b[39;00m\n\u001b[0;32m     <a href='vscode-notebook-cell:/d%3A/VIS/CrawlDataVietstock/check.ipynb#ch0000007?line=34'>35</a>\u001b[0m \u001b[39mfor\u001b[39;00m folder \u001b[39min\u001b[39;00m [p1q_CashFlows, p1y_CashFlows]:\n",
      "\u001b[1;31mTypeError\u001b[0m: list indices must be integers or slices, not str"
     ]
    }
   ],
   "source": [
    "# list_ = []\n",
    "# list_folder=[p1q_BalanceSheet, p1q_IncomStatement, p1q_CashFlows,\n",
    "#              p1y_BalanceSheet, p1y_IncomStatement, p1y_CashFlows,]\n",
    "# list_false = {}\n",
    "# all_com = pd.read_excel('base/Phase1/List_Com_First (1_4).xlsx')['Symbol']\n",
    "\n",
    "for folder in [p1q_BalanceSheet, p1y_BalanceSheet]:\n",
    "    list_ = []\n",
    "    for i in all_com:\n",
    "        # if i not in list_com_nothing:\n",
    "            try:\n",
    "                data = pd.read_csv(folder+i+'.csv')\n",
    "                if len(data.index) != 129:\n",
    "                    list_.append(i)\n",
    "            except:\n",
    "                list_.append(i)\n",
    "                pass\n",
    "    print(len(list_))\n",
    "    list_false[str(folder)] = list_\n",
    "\n",
    "# for folder in [p1q_IncomStatement, p1y_IncomStatement]:\n",
    "#     list_ = []\n",
    "#     for i in all_com:\n",
    "#         try:\n",
    "#             data = pd.read_csv(folder+i+'.csv')\n",
    "#             if len(data.index) != 30:\n",
    "#                 list_.append(i)\n",
    "#         except:\n",
    "#             list_.append(i)\n",
    "#             pass\n",
    "#     print(len(list_))\n",
    "#     list_false[str(folder)] = list_\n",
    "#     # list_com_nothing = list_\n",
    "\n",
    "for folder in [p1q_CashFlows, p1y_CashFlows]:\n",
    "    list_ = []\n",
    "    for i in all_com:\n",
    "        if i not in list_com_nothing:\n",
    "            try:\n",
    "                data = pd.read_csv(folder+i+'.csv')\n",
    "                if len(data.index) not in [40,56,96,0]:\n",
    "                    print(i, len(data.index))\n",
    "                    list_.append(i)\n",
    "            except:\n",
    "                list_.append(i)\n",
    "                pass\n",
    "    print(len(list_), list_)\n",
    "    list_false[str(folder)] = list_"
   ]
  },
  {
   "cell_type": "code",
   "execution_count": 38,
   "metadata": {},
   "outputs": [],
   "source": [
    "with open('false.json', 'w') as f:\n",
    "    json.dump(list_false, f)"
   ]
  },
  {
   "cell_type": "code",
   "execution_count": 3,
   "metadata": {},
   "outputs": [
    {
     "name": "stdout",
     "output_type": "stream",
     "text": [
      "D:/VIS/DataLake/Phase1/AdditionalListing/\n",
      "262\n",
      "D:/VIS/DataLake/Phase1/TreasuryStockTransactions/\n",
      "415\n",
      "D:/VIS/DataLake/Phase1/Company_delisting/\n",
      "369\n",
      "D:/VIS/DataLake/Phase1/Dividend/StockDividend/\n",
      "348\n",
      "D:/VIS/DataLake/Phase1/Dividend/CashDividend/\n",
      "140\n"
     ]
    }
   ],
   "source": [
    "list_folder= [p1_AdditionalListing, p1_TreasuryStockTransactions, p1_Company_delisting,p1_StockDividend,p1_CashDividend]\n",
    "\n",
    "list_false_2 = {}\n",
    "all_com = pd.read_excel('base/Phase1/List_Com_First (1_4).xlsx')['Symbol']\n",
    "\n",
    "for folder in list_folder:\n",
    "    print(folder)\n",
    "    list_ = []\n",
    "    for i in all_com:\n",
    "        try:\n",
    "            data = pd.read_csv(folder+i+'.csv')\n",
    "            if len(data.index) == 0 and len(data.columns) == 1:\n",
    "                list_.append(i)\n",
    "        except:\n",
    "            list_.append(i)\n",
    "            pass\n",
    "    print(len(list_))\n",
    "    list_false_2[str(folder)] = list_\n",
    "with open('false2.json', 'w') as f:\n",
    "    json.dump(list_false_2, f)"
   ]
  }
 ],
 "metadata": {
  "interpreter": {
   "hash": "31671a60cee805c34c73116577b485118ff3a75c458d3004d49632c19702ac60"
  },
  "kernelspec": {
   "display_name": "Python 3.10.0 64-bit",
   "language": "python",
   "name": "python3"
  },
  "language_info": {
   "codemirror_mode": {
    "name": "ipython",
    "version": 3
   },
   "file_extension": ".py",
   "mimetype": "text/x-python",
   "name": "python",
   "nbconvert_exporter": "python",
   "pygments_lexer": "ipython3",
   "version": "3.10.0"
  },
  "orig_nbformat": 4
 },
 "nbformat": 4,
 "nbformat_minor": 2
}

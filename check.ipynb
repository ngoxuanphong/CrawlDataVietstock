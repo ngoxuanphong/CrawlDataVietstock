{
 "cells": [
  {
   "cell_type": "code",
   "execution_count": 1,
   "metadata": {},
   "outputs": [],
   "source": [
    "import pandas as pd\n",
    "import os\n",
    "import json\n",
    "import requests"
   ]
  },
  {
   "cell_type": "code",
   "execution_count": 18,
   "metadata": {},
   "outputs": [],
   "source": [
    "p = 'A:/DataLake/Phase4/'\n",
    "ps_finan = f'{p}Financial/'\n",
    "ps_y = f'{ps_finan}Year/'\n",
    "ps_q = f'{ps_finan}Quarter/'\n",
    "\n",
    "ps_y_BS = f'{ps_y}BalanceSheet/'\n",
    "ps_y_IS = f'{ps_y}IncomeStatement/'\n",
    "ps_y_CF = f'{ps_y}CashFlow/'\n",
    "\n",
    "ps_q_BS = f'{ps_q}BalanceSheet/'\n",
    "ps_q_IS = f'{ps_q}IncomeStatement/'\n",
    "ps_q_CF = f'{ps_q}CashFlow/'\n",
    "\n",
    "p_Dividend = f'{p}Dividend/'\n",
    "p_Volume = f'{p}Volume/'\n",
    "\n",
    "p_DividendCash = f'{p}Dividend/DividendCash/'\n",
    "p_DividendShares = f'{p}Dividend/DividendShares/'\n",
    "p_TreasuryShares = f'{p}Volume/TreasuryShares/'\n",
    "p_VolumeAdditionalEvents = f'{p}Volume/VolumeAdditionalEvents/'\n",
    "p_VolumeNow = f'{p}Volume/VolumeNow.csv/'\n",
    "p_DataUpDownExchange = f'{p}DataUpDownExchange/'\n",
    "p_DataDownExchange = f'{p}DataUpDownExchange/DataDownExchange/'\n",
    "\n",
    "all_com = pd.read_excel('base/Phase1/List_Com_Phase4.xlsx')['Symbol']"
   ]
  },
  {
   "cell_type": "code",
   "execution_count": 10,
   "metadata": {},
   "outputs": [],
   "source": [
    "def list_col(all_com, path, list_col, list_false):\n",
    "    list_ = []\n",
    "    for i in all_com:\n",
    "        # if i not in list_com_nothing:\n",
    "            # print(i, end='  ')\n",
    "            try:\n",
    "                data = pd.read_csv(path+i+'.csv')\n",
    "                if len(data.index) == 0 and len(data.columns) == 1:\n",
    "                    continue\n",
    "                if len(data.index) not in list_col:\n",
    "                    # print(len(data), end= '  ')\n",
    "                    list_.append(i)\n",
    "                else:\n",
    "                    # print('hi')\n",
    "                    if ('Year' in path) and ('/' in str(list(data.columns))):\n",
    "                        list_.append(i)\n",
    "                        # print('hihi')\n",
    "                    elif ('Quarter' in path) and ('/' not in str(list(data.columns))):\n",
    "                        # print(i)\n",
    "                        list_.append(i)\n",
    "                    elif len(data.columns) <=3:\n",
    "                        list_.append(i)\n",
    "            except:\n",
    "                # print(i)\n",
    "                list_.append(i)\n",
    "                pass\n",
    "    print(len(list_))\n",
    "    list_false[str(path)] = list_\n",
    "    return list_false"
   ]
  },
  {
   "cell_type": "code",
   "execution_count": 25,
   "metadata": {},
   "outputs": [
    {
     "name": "stdout",
     "output_type": "stream",
     "text": [
      "0\n",
      "73\n",
      "0\n",
      "73\n",
      "0\n",
      "73\n"
     ]
    }
   ],
   "source": [
    "# [40,56,96,0], , [30]\n",
    "list_false = {}\n",
    "list_col(all_com, ps_y_BS, [129], list_false)\n",
    "list_col(all_com, ps_q_BS, [129], list_false)\n",
    "list_col(all_com, ps_y_IS, [30], list_false)\n",
    "list_col(all_com, ps_q_IS, [30], list_false)\n",
    "list_col(all_com, ps_y_CF, [40,56,96], list_false)\n",
    "list_col(all_com, ps_q_CF, [40,56,96], list_false)\n",
    "with open('false.json', 'w') as f:\n",
    "    json.dump(list_false, f)"
   ]
  },
  {
   "cell_type": "code",
   "execution_count": 23,
   "metadata": {},
   "outputs": [
    {
     "name": "stdout",
     "output_type": "stream",
     "text": [
      "A:/DataLake/Phase4/Dividend/DividendCash/\n",
      "120\n",
      "A:/DataLake/Phase4/Dividend/DividendShares/\n",
      "340\n",
      "A:/DataLake/Phase4/Volume/TreasuryShares/\n",
      "386\n",
      "A:/DataLake/Phase4/Volume/VolumeAdditionalEvents/\n",
      "272\n",
      "A:/DataLake/Phase4/Volume/VolumeNow.csv/\n",
      "48\n",
      "A:/DataLake/Phase4/DataUpDownExchange/DataDownExchange/\n",
      "390\n"
     ]
    }
   ],
   "source": [
    "list_folder= [p_DividendCash, p_DividendShares, p_TreasuryShares,p_VolumeAdditionalEvents,p_VolumeNow, p_DataDownExchange]\n",
    "\n",
    "list_false_2 = {}\n",
    "all_com = pd.read_excel('base/Phase1/List_Com_Phase4.xlsx')['Symbol']\n",
    "\n",
    "for folder in list_folder:\n",
    "    print(folder)\n",
    "    list_ = []\n",
    "    for i in all_com:\n",
    "        try:\n",
    "            data = pd.read_csv(folder+i+'.csv')\n",
    "            if len(data.index) == 0 and len(data.columns) == 1:\n",
    "                list_.append(i)\n",
    "        except:\n",
    "            list_.append(i)\n",
    "            pass\n",
    "    print(len(list_))\n",
    "    list_false_2[str(folder)] = list_\n",
    "with open('false2.json', 'w') as f:\n",
    "    json.dump(list_false_2, f)"
   ]
  },
  {
   "cell_type": "markdown",
   "metadata": {},
   "source": [
    "A:/DataLake/Phase4/Dividend/DividendCash/\n",
    "131\n",
    "A:/DataLake/Phase4/Dividend/DividendShares/\n",
    "343\n",
    "A:/DataLake/Phase4/Volume/TreasuryShares/\n",
    "387\n",
    "A:/DataLake/Phase4/Volume/VolumeAdditionalEvents/\n",
    "277\n",
    "A:/DataLake/Phase4/Volume/VolumeNow.csv/\n",
    "48\n",
    "A:/DataLake/Phase4/DataUpDownExchange/DataDownExchange/\n",
    "392\n",
    "\n",
    "A:/DataLake/Phase4/Dividend/DividendCash/\n",
    "120\n",
    "A:/DataLake/Phase4/Dividend/DividendShares/\n",
    "340\n",
    "A:/DataLake/Phase4/Volume/TreasuryShares/\n",
    "386\n",
    "A:/DataLake/Phase4/Volume/VolumeAdditionalEvents/\n",
    "272\n",
    "A:/DataLake/Phase4/Volume/VolumeNow.csv/\n",
    "48\n",
    "A:/DataLake/Phase4/DataUpDownExchange/DataDownExchange/\n",
    "390"
   ]
  }
 ],
 "metadata": {
  "kernelspec": {
   "display_name": "Python 3.10.5 64-bit",
   "language": "python",
   "name": "python3"
  },
  "language_info": {
   "codemirror_mode": {
    "name": "ipython",
    "version": 3
   },
   "file_extension": ".py",
   "mimetype": "text/x-python",
   "name": "python",
   "nbconvert_exporter": "python",
   "pygments_lexer": "ipython3",
   "version": "3.10.5"
  },
  "orig_nbformat": 4,
  "vscode": {
   "interpreter": {
    "hash": "7b2049c3d962bd013d909e5e9b838a79c4ef3262a51fb7b018dd7b02af6706dc"
   }
  }
 },
 "nbformat": 4,
 "nbformat_minor": 2
}

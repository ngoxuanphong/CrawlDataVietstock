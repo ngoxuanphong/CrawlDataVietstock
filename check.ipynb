{
 "cells": [
  {
   "cell_type": "code",
   "execution_count": 3,
   "metadata": {},
   "outputs": [],
   "source": [
    "import pandas as pd\n",
    "import os\n",
    "import json"
   ]
  },
  {
   "cell_type": "code",
   "execution_count": 4,
   "metadata": {},
   "outputs": [],
   "source": [
    "p = 'D:/VIS/DataLake/Phase2/'\n",
    "ps_finan = f'{p}Financial/'\n",
    "ps_y = f'{ps_finan}Year/'\n",
    "ps_q = f'{ps_finan}Quarter/'\n",
    "\n",
    "ps_y_BS = f'{ps_y}BalanceSheet/'\n",
    "ps_y_IS = f'{ps_y}IncomeStatement/'\n",
    "ps_y_CF = f'{ps_y}CashFlow/'\n",
    "\n",
    "ps_q_BS = f'{ps_q}BalanceSheet/'\n",
    "ps_q_IS = f'{ps_q}IncomeStatement/'\n",
    "ps_q_CF = f'{ps_q}CashFlow/'\n",
    "\n",
    "p_Dividend = f'{p}Dividend/'\n",
    "p_Volume = f'{p}Volume/'\n",
    "\n",
    "p_DividendCash = f'{p}Dividend/DividendCash/'\n",
    "p_DividendShares = f'{p}Dividend/DividendShares/'\n",
    "p_TreasuryShares = f'{p}Volume/TreasuryShares/'\n",
    "p_VolumeAdditionalEvents = f'{p}Volume/VolumeAdditionalEvents/'\n",
    "p_VolumeNow = f'{p}Volume/VolumeNow.csv/'\n",
    "all_com = pd.read_excel('base/Phase1/List_Com_Phase2.xlsx')['Symbol']"
   ]
  },
  {
   "cell_type": "code",
   "execution_count": 11,
   "metadata": {},
   "outputs": [],
   "source": [
    "# list_false = []\n",
    "# for i in os.listdir('base/Phase1/false'):\n",
    "#     len_ = len(pd.read_csv(f'base/Phase1/false/{i}').index)\n",
    "#     if len_ not in [40,56,96,0]:\n",
    "#         # print(i.re, len_)\n",
    "#         list_false.append(i.replace('.csv', ''))\n",
    "# print(list_false)"
   ]
  },
  {
   "cell_type": "code",
   "execution_count": 9,
   "metadata": {},
   "outputs": [],
   "source": [
    "def list_col(all_com, path, list_col, list_false):\n",
    "    list_ = []\n",
    "    for i in all_com:\n",
    "        # if i not in list_com_nothing:\n",
    "            # print(i, end='  ')\n",
    "            try:\n",
    "                data = pd.read_csv(path+i+'.csv')\n",
    "                if len(data.index) == 0 and len(data.columns) == 1:\n",
    "                    continue\n",
    "                if len(data.index) not in list_col:\n",
    "                    # print(len(data), end= '  ')\n",
    "                    list_.append(i)\n",
    "                else:\n",
    "                    # print('hi')\n",
    "                    if ('Year' in path) and ('/' in str(list(data.columns))):\n",
    "                        list_.append(i)\n",
    "                        # print('hihi')\n",
    "                    elif ('Quarter' in path) and ('/' not in str(list(data.columns))):\n",
    "                        # print(i)\n",
    "                        list_.append(i)\n",
    "                    elif len(data.columns) <=3:\n",
    "                        list_.append(i)\n",
    "            except:\n",
    "                print(i)\n",
    "                list_.append(i)\n",
    "                pass\n",
    "    print(len(list_))\n",
    "    list_false[str(path)] = list_\n",
    "    return list_false"
   ]
  },
  {
   "cell_type": "code",
   "execution_count": 16,
   "metadata": {},
   "outputs": [
    {
     "name": "stdout",
     "output_type": "stream",
     "text": [
      "6\n",
      "102\n",
      "6\n",
      "102\n",
      "0\n",
      "95\n"
     ]
    }
   ],
   "source": [
    "# [40,56,96,0], , [30]\n",
    "list_false = {}\n",
    "list_col(all_com, ps_y_BS, [129], list_false)\n",
    "list_col(all_com, ps_q_BS, [129], list_false)\n",
    "list_col(all_com, ps_y_IS, [30], list_false)\n",
    "list_col(all_com, ps_q_IS, [30], list_false)\n",
    "list_col(all_com, ps_y_CF, [40,56,96], list_false)\n",
    "list_col(all_com, ps_q_CF, [40,56,96], list_false)\n",
    "with open('false.json', 'w') as f:\n",
    "    json.dump(list_false, f)"
   ]
  },
  {
   "cell_type": "code",
   "execution_count": null,
   "metadata": {},
   "outputs": [],
   "source": [
    "# list_false = {}\n",
    "\n",
    "# for folder in [p1q_BalanceSheet, p1y_BalanceSheet]:\n",
    "list_ = []\n",
    "for i in all_com:\n",
    "    # if i not in list_com_nothing:\n",
    "        try:\n",
    "            data = pd.read_csv(p1q_BalanceSheet+i+'.csv')\n",
    "            if len(data.index) != 129:\n",
    "                list_.append(i)\n",
    "        except:\n",
    "            list_.append(i)\n",
    "            pass\n",
    "print(len(list_))\n",
    "list_false[str(p1q_BalanceSheet)] = list_\n",
    "\n",
    "# for folder in [p1q_IncomStatement, p1y_IncomStatement]:\n",
    "#     list_ = []\n",
    "#     for i in all_com:\n",
    "#         try:\n",
    "#             data = pd.read_csv(folder+i+'.csv')\n",
    "#             if len(data.index) != 30:\n",
    "#                 list_.append(i)\n",
    "#         except:\n",
    "#             list_.append(i)\n",
    "#             pass\n",
    "#     print(len(list_))\n",
    "#     list_false[str(folder)] = list_\n",
    "#     # list_com_nothing = list_\n",
    "\n",
    "for folder in [p1q_CashFlows, p1y_CashFlows]:\n",
    "    list_ = []\n",
    "    for i in all_com:\n",
    "        if i not in list_com_nothing:\n",
    "            try:\n",
    "                data = pd.read_csv(folder+i+'.csv')\n",
    "                if len(data.index) not in :\n",
    "                    print(i, len(data.index))\n",
    "                    list_.append(i)\n",
    "            except:\n",
    "                list_.append(i)\n",
    "                pass\n",
    "    print(len(list_), list_)\n",
    "    list_false[str(folder)] = list_"
   ]
  },
  {
   "cell_type": "code",
   "execution_count": 39,
   "metadata": {},
   "outputs": [],
   "source": [
    "with open('false.json', 'w') as f:\n",
    "    json.dump(list_false, f)"
   ]
  },
  {
   "cell_type": "code",
   "execution_count": null,
   "metadata": {},
   "outputs": [
    {
     "name": "stdout",
     "output_type": "stream",
     "text": [
      "D:/VIS/DataLake/Phase1/AdditionalListing/\n",
      "262\n",
      "D:/VIS/DataLake/Phase1/TreasuryStockTransactions/\n",
      "415\n",
      "D:/VIS/DataLake/Phase1/Company_delisting/\n",
      "369\n",
      "D:/VIS/DataLake/Phase1/Dividend/StockDividend/\n",
      "348\n",
      "D:/VIS/DataLake/Phase1/Dividend/CashDividend/\n",
      "140\n"
     ]
    }
   ],
   "source": [
    "list_folder= [p1_AdditionalListing, p1_TreasuryStockTransactions, p1_Company_delisting,p1_StockDividend,p1_CashDividend]\n",
    "\n",
    "list_false_2 = {}\n",
    "all_com = pd.read_excel('base/Phase1/List_Com_First (1_4).xlsx')['Symbol']\n",
    "\n",
    "for folder in list_folder:\n",
    "    print(folder)\n",
    "    list_ = []\n",
    "    for i in all_com:\n",
    "        try:\n",
    "            data = pd.read_csv(folder+i+'.csv')\n",
    "            if len(data.index) == 0 and len(data.columns) == 1:\n",
    "                list_.append(i)\n",
    "        except:\n",
    "            list_.append(i)\n",
    "            pass\n",
    "    print(len(list_))\n",
    "    list_false_2[str(folder)] = list_\n",
    "with open('false2.json', 'w') as f:\n",
    "    json.dump(list_false_2, f)"
   ]
  }
 ],
 "metadata": {
  "interpreter": {
   "hash": "31671a60cee805c34c73116577b485118ff3a75c458d3004d49632c19702ac60"
  },
  "kernelspec": {
   "display_name": "Python 3.10.0 64-bit",
   "language": "python",
   "name": "python3"
  },
  "language_info": {
   "codemirror_mode": {
    "name": "ipython",
    "version": 3
   },
   "file_extension": ".py",
   "mimetype": "text/x-python",
   "name": "python",
   "nbconvert_exporter": "python",
   "pygments_lexer": "ipython3",
   "version": "3.10.0"
  },
  "orig_nbformat": 4
 },
 "nbformat": 4,
 "nbformat_minor": 2
}
